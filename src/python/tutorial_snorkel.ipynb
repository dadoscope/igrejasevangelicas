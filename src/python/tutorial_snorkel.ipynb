{
 "cells": [
  {
   "cell_type": "code",
   "execution_count": 3,
   "metadata": {
    "collapsed": true
   },
   "outputs": [],
   "source": [
    "import pandas as pd\n"
   ]
  },
  {
   "cell_type": "code",
   "execution_count": 7,
   "outputs": [
    {
     "name": "stderr",
     "output_type": "stream",
     "text": [
      "/home/henriquegomide/.local/lib/python3.8/site-packages/IPython/core/interactiveshell.py:3062: DtypeWarning: Columns (8,28,29) have mixed types.Specify dtype option on import or set low_memory=False.\n",
      "  has_raised = await self.run_ast_nodes(code_ast.body, cell_name,\n"
     ]
    }
   ],
   "source": [
    "igrejas = pd.read_csv('../../data/igreja_cnpj_ativo.zip',\n",
    "                   encoding='ISO-8859-1',\n",
    "                   compression='zip')"
   ],
   "metadata": {
    "collapsed": false,
    "pycharm": {
     "name": "#%%\n"
    }
   }
  },
  {
   "cell_type": "code",
   "execution_count": 8,
   "outputs": [
    {
     "data": {
      "text/plain": "   Unnamed: 0          cnpj  identificador_matriz_filial  \\\n0           1     351000100                            1   \n1           2   86383000162                            1   \n2           3   97394000148                            1   \n3           4  113233018814                            2   \n4           5  113233018903                            2   \n\n                                    razao_social   nome_fantasia  \\\n0  CONGREGACAO HUMILDES SERVOS DA RAINHA DO AMOR             NaN   \n1                  LAR DAS CRIANCAS LUIZ HERMANI             NaN   \n2                      ASSOCIACAO SERVOS DE DEUS             NaN   \n3         IGREJA TABERNACULO EVANGELICO DE JESUS  CASA DA BENCAO   \n4         IGREJA TABERNACULO EVANGELICO DE JESUS  CASA DA BENCAO   \n\n   situacao_cadastral data_situacao_cadastral  motivo_situacao_cadastral  \\\n0                   2              2005-11-03                          0   \n1                   2              1998-07-28                          0   \n2                   2              2002-11-16                          0   \n3                   2              2008-01-02                          0   \n4                   2              2008-03-12                          0   \n\n  nome_cidade_exterior  codigo_natureza_juridica  ...  \\\n0                  NaN                      3999  ...   \n1                  NaN                      3999  ...   \n2                  NaN                      3999  ...   \n3                  NaN                      3220  ...   \n4                  NaN                      3220  ...   \n\n  qualificacao_do_responsavel  capital_social porte opcao_pelo_simples  \\\n0                          16             0.0     5                  0   \n1                          16             0.0     5                  0   \n2                          16             0.0     5                  0   \n3                          16             0.0     5                  0   \n4                          16             0.0     5                  0   \n\n  data_opcao_pelo_simples data_exclusao_do_simples opcao_pelo_mei  \\\n0                     NaN                      NaN              0   \n1                     NaN                      NaN              0   \n2                     NaN                      NaN              0   \n3                     NaN                      NaN              0   \n4                     NaN                      NaN              0   \n\n   situacao_especial data_situacao_especial            data_inclusao  \n0                NaN                    NaN  2019-07-12 22:39:55.000  \n1                NaN                    NaN  2019-07-12 22:40:44.000  \n2                NaN                    NaN  2019-07-12 22:40:51.000  \n3                NaN                    NaN  2019-07-12 22:41:03.000  \n4                NaN                    NaN  2019-07-12 22:41:03.000  \n\n[5 rows x 34 columns]",
      "text/html": "<div>\n<style scoped>\n    .dataframe tbody tr th:only-of-type {\n        vertical-align: middle;\n    }\n\n    .dataframe tbody tr th {\n        vertical-align: top;\n    }\n\n    .dataframe thead th {\n        text-align: right;\n    }\n</style>\n<table border=\"1\" class=\"dataframe\">\n  <thead>\n    <tr style=\"text-align: right;\">\n      <th></th>\n      <th>Unnamed: 0</th>\n      <th>cnpj</th>\n      <th>identificador_matriz_filial</th>\n      <th>razao_social</th>\n      <th>nome_fantasia</th>\n      <th>situacao_cadastral</th>\n      <th>data_situacao_cadastral</th>\n      <th>motivo_situacao_cadastral</th>\n      <th>nome_cidade_exterior</th>\n      <th>codigo_natureza_juridica</th>\n      <th>...</th>\n      <th>qualificacao_do_responsavel</th>\n      <th>capital_social</th>\n      <th>porte</th>\n      <th>opcao_pelo_simples</th>\n      <th>data_opcao_pelo_simples</th>\n      <th>data_exclusao_do_simples</th>\n      <th>opcao_pelo_mei</th>\n      <th>situacao_especial</th>\n      <th>data_situacao_especial</th>\n      <th>data_inclusao</th>\n    </tr>\n  </thead>\n  <tbody>\n    <tr>\n      <th>0</th>\n      <td>1</td>\n      <td>351000100</td>\n      <td>1</td>\n      <td>CONGREGACAO HUMILDES SERVOS DA RAINHA DO AMOR</td>\n      <td>NaN</td>\n      <td>2</td>\n      <td>2005-11-03</td>\n      <td>0</td>\n      <td>NaN</td>\n      <td>3999</td>\n      <td>...</td>\n      <td>16</td>\n      <td>0.0</td>\n      <td>5</td>\n      <td>0</td>\n      <td>NaN</td>\n      <td>NaN</td>\n      <td>0</td>\n      <td>NaN</td>\n      <td>NaN</td>\n      <td>2019-07-12 22:39:55.000</td>\n    </tr>\n    <tr>\n      <th>1</th>\n      <td>2</td>\n      <td>86383000162</td>\n      <td>1</td>\n      <td>LAR DAS CRIANCAS LUIZ HERMANI</td>\n      <td>NaN</td>\n      <td>2</td>\n      <td>1998-07-28</td>\n      <td>0</td>\n      <td>NaN</td>\n      <td>3999</td>\n      <td>...</td>\n      <td>16</td>\n      <td>0.0</td>\n      <td>5</td>\n      <td>0</td>\n      <td>NaN</td>\n      <td>NaN</td>\n      <td>0</td>\n      <td>NaN</td>\n      <td>NaN</td>\n      <td>2019-07-12 22:40:44.000</td>\n    </tr>\n    <tr>\n      <th>2</th>\n      <td>3</td>\n      <td>97394000148</td>\n      <td>1</td>\n      <td>ASSOCIACAO SERVOS DE DEUS</td>\n      <td>NaN</td>\n      <td>2</td>\n      <td>2002-11-16</td>\n      <td>0</td>\n      <td>NaN</td>\n      <td>3999</td>\n      <td>...</td>\n      <td>16</td>\n      <td>0.0</td>\n      <td>5</td>\n      <td>0</td>\n      <td>NaN</td>\n      <td>NaN</td>\n      <td>0</td>\n      <td>NaN</td>\n      <td>NaN</td>\n      <td>2019-07-12 22:40:51.000</td>\n    </tr>\n    <tr>\n      <th>3</th>\n      <td>4</td>\n      <td>113233018814</td>\n      <td>2</td>\n      <td>IGREJA TABERNACULO EVANGELICO DE JESUS</td>\n      <td>CASA DA BENCAO</td>\n      <td>2</td>\n      <td>2008-01-02</td>\n      <td>0</td>\n      <td>NaN</td>\n      <td>3220</td>\n      <td>...</td>\n      <td>16</td>\n      <td>0.0</td>\n      <td>5</td>\n      <td>0</td>\n      <td>NaN</td>\n      <td>NaN</td>\n      <td>0</td>\n      <td>NaN</td>\n      <td>NaN</td>\n      <td>2019-07-12 22:41:03.000</td>\n    </tr>\n    <tr>\n      <th>4</th>\n      <td>5</td>\n      <td>113233018903</td>\n      <td>2</td>\n      <td>IGREJA TABERNACULO EVANGELICO DE JESUS</td>\n      <td>CASA DA BENCAO</td>\n      <td>2</td>\n      <td>2008-03-12</td>\n      <td>0</td>\n      <td>NaN</td>\n      <td>3220</td>\n      <td>...</td>\n      <td>16</td>\n      <td>0.0</td>\n      <td>5</td>\n      <td>0</td>\n      <td>NaN</td>\n      <td>NaN</td>\n      <td>0</td>\n      <td>NaN</td>\n      <td>NaN</td>\n      <td>2019-07-12 22:41:03.000</td>\n    </tr>\n  </tbody>\n</table>\n<p>5 rows × 34 columns</p>\n</div>"
     },
     "execution_count": 8,
     "metadata": {},
     "output_type": "execute_result"
    }
   ],
   "source": [
    "igrejas.head()"
   ],
   "metadata": {
    "collapsed": false,
    "pycharm": {
     "name": "#%%\n"
    }
   }
  }
 ],
 "metadata": {
  "kernelspec": {
   "display_name": "Python 3",
   "language": "python",
   "name": "python3"
  },
  "language_info": {
   "codemirror_mode": {
    "name": "ipython",
    "version": 2
   },
   "file_extension": ".py",
   "mimetype": "text/x-python",
   "name": "python",
   "nbconvert_exporter": "python",
   "pygments_lexer": "ipython2",
   "version": "2.7.6"
  }
 },
 "nbformat": 4,
 "nbformat_minor": 0
}